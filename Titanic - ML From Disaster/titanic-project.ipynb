{
 "cells": [
  {
   "cell_type": "code",
   "execution_count": 3,
   "metadata": {
    "collapsed": false
   },
   "outputs": [
    {
     "name": "stdout",
     "output_type": "stream",
     "text": [
      "   PassengerId  Survived  Pclass  \\\n",
      "0            1         0       3   \n",
      "1            2         1       1   \n",
      "2            3         1       3   \n",
      "3            4         1       1   \n",
      "4            5         0       3   \n",
      "\n",
      "                                                Name     Sex   Age  SibSp  \\\n",
      "0                            Braund, Mr. Owen Harris    male  22.0      1   \n",
      "1  Cumings, Mrs. John Bradley (Florence Briggs Th...  female  38.0      1   \n",
      "2                             Heikkinen, Miss. Laina  female  26.0      0   \n",
      "3       Futrelle, Mrs. Jacques Heath (Lily May Peel)  female  35.0      1   \n",
      "4                           Allen, Mr. William Henry    male  35.0      0   \n",
      "\n",
      "   Parch            Ticket     Fare Cabin Embarked  \n",
      "0      0         A/5 21171   7.2500   NaN        S  \n",
      "1      0          PC 17599  71.2833   C85        C  \n",
      "2      0  STON/O2. 3101282   7.9250   NaN        S  \n",
      "3      0            113803  53.1000  C123        S  \n",
      "4      0            373450   8.0500   NaN        S  \n"
     ]
    }
   ],
   "source": [
    "import numpy as np\n",
    "import pandas as pd\n",
    "from sklearn import preprocessing, cross_validation, neighbors, metrics, linear_model, ensemble, grid_search, cluster\n",
    "import matplotlib.pyplot as plt\n",
    "\n",
    "df = pd.read_csv('train.csv')\n",
    "test = pd.read_csv('test.csv')\n",
    "print(df.head())\n",
    "#print(test.head())"
   ]
  },
  {
   "cell_type": "code",
   "execution_count": 4,
   "metadata": {
    "collapsed": false,
    "scrolled": false
   },
   "outputs": [
    {
     "name": "stdout",
     "output_type": "stream",
     "text": [
      "   PassengerId  Survived  Pclass  \\\n",
      "0            1         0       3   \n",
      "1            2         1       1   \n",
      "2            3         1       3   \n",
      "3            4         1       1   \n",
      "4            5         0       3   \n",
      "\n",
      "                                                Name     Sex   Age  SibSp  \\\n",
      "0                            Braund, Mr. Owen Harris    male  22.0      1   \n",
      "1  Cumings, Mrs. John Bradley (Florence Briggs Th...  female  38.0      1   \n",
      "2                             Heikkinen, Miss. Laina  female  26.0      0   \n",
      "3       Futrelle, Mrs. Jacques Heath (Lily May Peel)  female  35.0      1   \n",
      "4                           Allen, Mr. William Henry    male  35.0      0   \n",
      "\n",
      "   Parch            Ticket     Fare Cabin Embarked  Child  \n",
      "0      0         A/5 21171   7.2500   NaN        S      0  \n",
      "1      0          PC 17599  71.2833   C85        C      0  \n",
      "2      0  STON/O2. 3101282   7.9250   NaN        S      0  \n",
      "3      0            113803  53.1000  C123        S      0  \n",
      "4      0            373450   8.0500   NaN        S      0  \n"
     ]
    },
    {
     "name": "stderr",
     "output_type": "stream",
     "text": [
      "/Users/avinashtamby/anaconda/lib/python3.5/site-packages/numpy/lib/function_base.py:3403: RuntimeWarning: Invalid value encountered in median\n",
      "  RuntimeWarning)\n"
     ]
    }
   ],
   "source": [
    "import statistics as s\n",
    "#print(s.mean(df.Age))\n",
    "#print(df.describe())\n",
    "m = df.describe().transpose()['mean']\n",
    "thq = df.describe().transpose()['75%']\n",
    "#print(m.Age)\n",
    "\n",
    "df.Age = df.Age.fillna(value=m.Age)\n",
    "df['Child'] = np.where(df['Age'] < 18, 1, 0)\n",
    "\n",
    "print(df.head())\n",
    "\n",
    "mtest = test.describe().transpose()['mean']\n",
    "test.Age = test.Age.fillna(value=mtest.Age)\n",
    "test['Child'] = np.where(test['Age'] < 18, 1, 0)\n"
   ]
  },
  {
   "cell_type": "code",
   "execution_count": 5,
   "metadata": {
    "collapsed": false
   },
   "outputs": [
    {
     "name": "stdout",
     "output_type": "stream",
     "text": [
      "['Mr', 'Mrs', 'Miss', 'Mrs', 'Mr', 'Mr', 'Mr', 'Master', 'Mrs', 'Mrs', 'Miss', 'Miss', 'Mr', 'Mr', 'Miss', 'Mrs', 'Master', 'Mr', 'Mrs', 'Mrs', 'Mr', 'Mr', 'Miss', 'Mr', 'Miss', 'Mrs', 'Mr', 'Mr', 'Miss', 'Mr', 'Don', 'Mrs', 'Miss', 'Mr', 'Mr', 'Mr', 'Mr', 'Mr', 'Miss', 'Miss', 'Mrs', 'Mrs', 'Mr', 'Miss', 'Miss', 'Mr', 'Mr', 'Miss', 'Mr', 'Mrs', 'Master', 'Mr', 'Mrs', 'Mrs', 'Mr', 'Mr', 'Miss', 'Mr', 'Miss', 'Master', 'Mr', 'Miss', 'Mr', 'Master', 'Mr', 'Master', 'Mrs', 'Mr', 'Miss', 'Mr', 'Mr', 'Miss', 'Mr', 'Mr', 'Mr', 'Mr', 'Mr', 'Mr', 'Master', 'Miss', 'Mr', 'Mr', 'Miss', 'Mr', 'Miss', 'Mrs', 'Mr', 'Mr', 'Miss', 'Mr', 'Mr', 'Mr', 'Mr', 'Mr', 'Mr', 'Mr', 'Mr', 'Mr', 'Mrs', 'Mr', 'Miss', 'Mr', 'Mr', 'Mr', 'Mr', 'Mr', 'Miss', 'Mr', 'Mr', 'Miss', 'Mr', 'Miss', 'Mr', 'Miss', 'Miss', 'Mr', 'Mr', 'Mr', 'Mr', 'Miss', 'Mr', 'Mr', 'Mr', 'Miss', 'Mr', 'Master', 'Mr', 'Mr', 'Miss', 'Mr', 'Mr', 'Mr', 'Mrs', 'Mrs', 'Mr', 'Mr', 'Miss', 'Mr', 'Mr', 'Mr', 'Mrs', 'Miss', 'Mrs', 'Mr', 'Mr', 'Mr', 'Mr', 'Miss', 'Mr', 'Rev', 'Rev', 'Mrs', 'Mr', 'Mr', 'Mr', 'Mr', 'Miss', 'Mr', 'Mr', 'Master', 'Mr', 'Mrs', 'Mr', 'Mr', 'Master', 'Master', 'Mrs', 'Mrs', 'Mr', 'Mr', 'Mr', 'Master', 'Miss', 'Mr', 'Mr', 'Mr', 'Master', 'Miss', 'Mr', 'Mr', 'Miss', 'Mr', 'Master', 'Master', 'Miss', 'Mr', 'Mrs', 'Mr', 'Mr', 'Mr', 'Mrs', 'Mr', 'Miss', 'Master', 'Mrs', 'Miss', 'Mr', 'Mr', 'Miss', 'Miss', 'Mr', 'Mr', 'Mr', 'Mr', 'Mr', 'Miss', 'Mr', 'Mr', 'Miss', 'Mr', 'Mr', 'Miss', 'Mr', 'Mr', 'Mr', 'Miss', 'Miss', 'Mr', 'Miss', 'Mr', 'Mr', 'Mr', 'Mr', 'Mr', 'Mr', 'Mr', 'Mr', 'Mr', 'Mr', 'Miss', 'Mrs', 'Mr', 'Mr', 'Miss', 'Mr', 'Miss', 'Mr', 'Miss', 'Mr', 'Mr', 'Miss', 'Miss', 'Mr', 'Mr', 'Mr', 'Dr', 'Miss', 'Mrs', 'Mr', 'Rev', 'Mr', 'Mrs', 'Mr', 'Mr', 'Mrs', 'Mrs', 'Mrs', 'Miss', 'Miss', 'Mrs', 'Mr', 'Master', 'Mr', 'Mr', 'Miss', 'Mr', 'Mr', 'Mr', 'Mrs', 'Miss', 'Mr', 'Mr', 'Mrs', 'Mr', 'Miss', 'Miss', 'Miss', 'Mr', 'Master', 'Mrs', 'Mr', 'Mr', 'Mr', 'Mr', 'Mr', 'Mr', 'Mr', 'Mr', 'Mr', 'Miss', 'Miss', 'Mrs', 'Mr', 'Miss', 'Mr', 'Mr', 'Mr', 'Miss', 'Mr', 'Mrs', 'Miss', 'Mr', 'Mr', 'Miss', 'Mr', 'Master', 'Miss', 'Mrs', 'Mr', 'Miss', 'Miss', 'Miss', 'Mrs', 'Mr', 'Mr', 'Miss', 'Mrs', 'Dr', 'Miss', 'Mrs', 'Mr', 'Mr', 'Miss', 'Mrs', 'Mr', 'Miss', 'Mr', 'Mrs', 'Mrs', 'Miss', 'Miss', 'Mr', 'Mr', 'Mr', 'Mrs', 'Mr', 'Mr', 'Miss', 'Mr', 'Mr', 'Master', 'Miss', 'Mr', 'Mr', 'Mr', 'Miss', 'Miss', 'Mrs', 'Master', 'Mr', 'Mr', 'Mr', 'Mr', 'Mr', 'Mr', 'Mr', 'Miss', 'Miss', 'Miss', 'Miss', 'Mr', 'Mr', 'Mrs', 'Mr', 'Mr', 'Mr', 'Mrs', 'Mrs', 'Miss', 'Mme', 'Mr', 'Mr', 'Mr', 'Mr', 'Miss', 'Mrs', 'Miss', 'Mr', 'Mr', 'Mr', 'Miss', 'Miss', 'Mr', 'Mrs', 'Mr', 'Mr', 'Master', 'Miss', 'Mr', 'Miss', 'Mr', 'Mr', 'Mr', 'Miss', 'Mrs', 'Mr', 'Miss', 'Mr', 'Dr', 'Mrs', 'Mr', 'Mr', 'Miss', 'Mr', 'Miss', 'Mr', 'Mr', 'Master', 'Mr', 'Miss', 'Mr', 'Mr', 'Miss', 'Mr', 'Mr', 'Mrs', 'Mrs', 'Miss', 'Mr', 'Miss', 'Mr', 'Mr', 'Mr', 'Mrs', 'Mr', 'Mr', 'Mrs', 'Miss', 'Mr', 'Mr', 'Mr', 'Mrs', 'Mrs', 'Mr', 'Mr', 'Miss', 'Miss', 'Mrs', 'Mr', 'Mr', 'Mrs', 'Mr', 'Mr', 'Ms', 'Mr', 'Master', 'Miss', 'Mr', 'Miss', 'Major', 'Mr', 'Mr', 'Mr', 'Mr', 'Mr', 'Mr', 'Mr', 'Mrs', 'Miss', 'Mr', 'Mr', 'Mr', 'Mr', 'Mr', 'Mr', 'Mr', 'Mr', 'Mr', 'Mr', 'Miss', 'Mr', 'Mr', 'Mrs', 'Mrs', 'Miss', 'Mr', 'Mr', 'Mr', 'Mr', 'Miss', 'Master', 'Mr', 'Mr', 'Mrs', 'Mr', 'Miss', 'Mrs', 'Mr', 'Mr', 'Master', 'Mr', 'Mr', 'Mr', 'Mr', 'Mr', 'Mr', 'Miss', 'Mr', 'Mrs', 'Mr', 'Mr', 'Miss', 'Miss', 'Miss', 'Miss', 'Mr', 'Mrs', 'Mr', 'Mr', 'Mr', 'Mr', 'Mr', 'Mr', 'Mrs', 'Mr', 'Mr', 'Mrs', 'Mr', 'Mrs', 'Mr', 'Miss', 'Mr', 'Mr', 'Mrs', 'Mr', 'Mr', 'Miss', 'Mr', 'Mr', 'Mr', 'Miss', 'Mr', 'Mr', 'Mrs', 'Miss', 'Miss', 'Major', 'Miss', 'Mr', 'Miss', 'Miss', 'Miss', 'Miss', 'Mr', 'Mr', 'Mr', 'Mrs', 'Mr', 'Mr', 'Master', 'Mr', 'Mr', 'Mr', 'Mr', 'Miss', 'Mr', 'Lady', 'Mr', 'Mrs', 'Mrs', 'Mr', 'Mr', 'Mr', 'Mr', 'Miss', 'Mr', 'Mr', 'Mrs', 'Mr', 'Mr', 'Mr', 'Mrs', 'Mr', 'Miss', 'Mr', 'Mr', 'Miss', 'Mrs', 'Mrs', 'Mr', 'Miss', 'Mrs', 'Mr', 'Mr', 'Mr', 'Miss', 'Mr', 'Mr', 'Mr', 'Mr', 'Mr', 'Mrs', 'Mr', 'Miss', 'Mr', 'Mr', 'Miss', 'Mr', 'Mr', 'Sir', 'Mrs', 'Mr', 'Mr', 'Mr', 'Mr', 'Mr', 'Mr', 'Mr', 'Mrs', 'Miss', 'Mrs', 'Mr', 'Miss', 'Mr', 'Mr', 'Miss', 'Mr', 'Mrs', 'Miss', 'Mr', 'Mr', 'Mr', 'Mr', 'Mr', 'Mr', 'Mr', 'Rev', 'Miss', 'Mr', 'Mr', 'Mr', 'Mr', 'Dr', 'Mr', 'Miss', 'Miss', 'Mr', 'Mr', 'Mrs', 'Mr', 'Mr', 'Mlle', 'Miss', 'Mr', 'Miss', 'Mr', 'Mr', 'Col', 'Mr', 'Miss', 'Mr', 'Miss', 'Mr', 'Miss', 'Miss', 'Mr', 'Mr', 'Mrs', 'Mr', 'Mr', 'Dr', 'Mr', 'Mr', 'Mr', 'Mr', 'Mr', 'Mr', 'Mr', 'Mr', 'Mrs', 'Mrs', 'Mr', 'Mr', 'Mr', 'Mr', 'Mr', 'Mr', 'Miss', 'Mrs', 'Mr', 'Miss', 'Mr', 'Mr', 'Mr', 'Mr', 'Mr', 'Mr', 'Mr', 'Mr', 'Miss', 'Mr', 'Miss', 'Mr', 'Mr', 'Col', 'Mr', 'Mr', 'Miss', 'Mr', 'Mr', 'Mrs', 'Mr', 'Miss', 'Mr', 'Mr', 'Mr', 'Mrs', 'Mr', 'Miss', 'Master', 'Mlle', 'Mr', 'Mr', 'Mr', 'Mr', 'Mr', 'Miss', 'Miss', 'Mr', 'Mr', 'Miss', 'Mr', 'Mr', 'Mr', 'Mr', 'Mr', 'Mrs', 'Miss', 'Mr', 'Miss', 'Miss', 'Mr', 'Mr', 'Mr', 'Mr', 'Mr', 'Mrs', 'Mr', 'Mr', 'Mr', 'Mr', 'Mr', 'Miss', 'Mr', 'Mr', 'Capt', 'Mr', 'Miss', 'Mr', 'Mr', 'Miss', 'Master', 'Mr', 'Mr', 'Mrs', 'Master', 'Mr', 'Mr', 'Mr', 'the Countess', 'Mr', 'Mr', 'Mr', 'Mrs', 'Mr', 'Mrs', 'Dr', 'Miss', 'Mr', 'Mr', 'Mr', 'Mr', 'Mrs', 'Mr', 'Mrs', 'Mr', 'Mr', 'Miss', 'Mr', 'Mrs', 'Miss', 'Mrs', 'Mr', 'Mr', 'Mr', 'Mr', 'Miss', 'Master', 'Master', 'Mr', 'Mr', 'Mr', 'Miss', 'Mr', 'Mr', 'Mr', 'Dr', 'Mrs', 'Mr', 'Mrs', 'Mr', 'Mrs', 'Master', 'Master', 'Mr', 'Mr', 'Mr', 'Miss', 'Mr', 'Mrs', 'Mr', 'Mr', 'Mr', 'Miss', 'Mr', 'Mr', 'Miss', 'Mr', 'Mr', 'Master', 'Mrs', 'Mr', 'Jonkheer', 'Mrs', 'Master', 'Mr', 'Mr', 'Master', 'Mr', 'Mrs', 'Mrs', 'Master', 'Mr', 'Mr', 'Mr', 'Miss', 'Mr', 'Mr', 'Mr', 'Mr', 'Mr', 'Mr', 'Miss', 'Mr', 'Mr', 'Mr', 'Mr', 'Mr', 'Rev', 'Mrs', 'Master', 'Mr', 'Miss', 'Miss', 'Mrs', 'Mrs', 'Mrs', 'Mr', 'Mrs', 'Mr', 'Mr', 'Mr', 'Mrs', 'Miss', 'Mr', 'Mrs', 'Miss', 'Mr', 'Mr', 'Master', 'Mr', 'Mrs', 'Mr', 'Mr', 'Mrs', 'Miss', 'Mr', 'Mr', 'Mr', 'Mrs', 'Mrs', 'Mr', 'Miss', 'Mr', 'Mr', 'Mrs', 'Rev', 'Miss', 'Miss', 'Mr', 'Mr']\n"
     ]
    },
    {
     "name": "stderr",
     "output_type": "stream",
     "text": [
      "/Users/avinashtamby/anaconda/lib/python3.5/site-packages/ipykernel/__main__.py:17: SettingWithCopyWarning: \n",
      "A value is trying to be set on a copy of a slice from a DataFrame\n",
      "\n",
      "See the caveats in the documentation: http://pandas.pydata.org/pandas-docs/stable/indexing.html#indexing-view-versus-copy\n",
      "/Users/avinashtamby/anaconda/lib/python3.5/site-packages/ipykernel/__main__.py:15: SettingWithCopyWarning: \n",
      "A value is trying to be set on a copy of a slice from a DataFrame\n",
      "\n",
      "See the caveats in the documentation: http://pandas.pydata.org/pandas-docs/stable/indexing.html#indexing-view-versus-copy\n",
      "/Users/avinashtamby/anaconda/lib/python3.5/site-packages/ipykernel/__main__.py:19: SettingWithCopyWarning: \n",
      "A value is trying to be set on a copy of a slice from a DataFrame\n",
      "\n",
      "See the caveats in the documentation: http://pandas.pydata.org/pandas-docs/stable/indexing.html#indexing-view-versus-copy\n"
     ]
    },
    {
     "name": "stdout",
     "output_type": "stream",
     "text": [
      "0       2\n",
      "1       2\n",
      "2       1\n",
      "3       2\n",
      "4       1\n",
      "5       1\n",
      "6       1\n",
      "7       5\n",
      "8       3\n",
      "9       2\n",
      "10      3\n",
      "11      1\n",
      "12      1\n",
      "13      7\n",
      "14      1\n",
      "15      1\n",
      "16      6\n",
      "17      1\n",
      "18      2\n",
      "19      1\n",
      "20      1\n",
      "21      1\n",
      "22      1\n",
      "23      1\n",
      "24      5\n",
      "25      7\n",
      "26      1\n",
      "27      6\n",
      "28      1\n",
      "29      1\n",
      "       ..\n",
      "861     2\n",
      "862     1\n",
      "863    11\n",
      "864     1\n",
      "865     1\n",
      "866     2\n",
      "867     1\n",
      "868     1\n",
      "869     3\n",
      "870     1\n",
      "871     3\n",
      "872     1\n",
      "873     1\n",
      "874     2\n",
      "875     1\n",
      "876     1\n",
      "877     1\n",
      "878     1\n",
      "879     2\n",
      "880     2\n",
      "881     1\n",
      "882     1\n",
      "883     1\n",
      "884     1\n",
      "885     6\n",
      "886     1\n",
      "887     1\n",
      "888     4\n",
      "889     1\n",
      "890     1\n",
      "Name: FamilySize, dtype: int64\n"
     ]
    },
    {
     "data": {
      "text/plain": [
       "0               2Braund\n",
       "1              2Cumings\n",
       "2            1Heikkinen\n",
       "3             2Futrelle\n",
       "4                1Allen\n",
       "5                1Moran\n",
       "6             1McCarthy\n",
       "7              5Palsson\n",
       "8              3Johnson\n",
       "9               2Nasser\n",
       "10           3Sandstrom\n",
       "11             1Bonnell\n",
       "12         1Saundercock\n",
       "13           7Andersson\n",
       "14             1Vestrom\n",
       "15             1Hewlett\n",
       "16                6Rice\n",
       "17            1Williams\n",
       "18       2Vander Planke\n",
       "19          1Masselmani\n",
       "20              1Fynney\n",
       "21             1Beesley\n",
       "22             1McGowan\n",
       "23              1Sloper\n",
       "24             5Palsson\n",
       "25             7Asplund\n",
       "26                1Emir\n",
       "27             6Fortune\n",
       "28             1O'Dwyer\n",
       "29            1Todoroff\n",
       "             ...       \n",
       "861              2Giles\n",
       "862              1Swift\n",
       "863              11Sage\n",
       "864               1Gill\n",
       "865            1Bystrom\n",
       "866       2Duran y More\n",
       "867           1Roebling\n",
       "868      1van Melkebeke\n",
       "869            3Johnson\n",
       "870             1Balkic\n",
       "871           3Beckwith\n",
       "872           1Carlsson\n",
       "873    1Vander Cruyssen\n",
       "874            2Abelson\n",
       "875              1Najib\n",
       "876         1Gustafsson\n",
       "877            1Petroff\n",
       "878             1Laleff\n",
       "879             2Potter\n",
       "880            2Shelley\n",
       "881             1Markun\n",
       "882           1Dahlberg\n",
       "883           1Banfield\n",
       "884           1Sutehall\n",
       "885               6Rice\n",
       "886           1Montvila\n",
       "887             1Graham\n",
       "888           4Johnston\n",
       "889               1Behr\n",
       "890             1Dooley\n",
       "Name: FamilyID, dtype: object"
      ]
     },
     "execution_count": 5,
     "metadata": {},
     "output_type": "execute_result"
    }
   ],
   "source": [
    "#Feature Engineering Training\n",
    "\n",
    "import re\n",
    "title = []\n",
    "for i in range(len(df.Name)):\n",
    "    title.append(re.split(', |\\. ',df.Name[i])[1])\n",
    "\n",
    "print(title)\n",
    "\n",
    "df['Title'] = title\n",
    "df.Title.value_counts()\n",
    "\n",
    "for i in range(len(df.Title)):\n",
    "    if df.Title[i] == 'Mme':\n",
    "        df.Title[i] = 'Mlle'\n",
    "    elif df.Title[i] in ('Capt','Don','Major'):\n",
    "        df.Title[i] = 'Sir'\n",
    "    elif df.Title[i] in ('Dona','the Countess','Jonkheer'):\n",
    "        df.Title[i] = 'Lady'\n",
    "df.Title.value_counts()\n",
    "\n",
    "df['FamilySize'] = df.SibSp + df.Parch + 1\n",
    "print(df.FamilySize)\n",
    "\n",
    "surname = []\n",
    "for i in range(len(df.Name)):\n",
    "    surname.append(re.split(', |\\. ',df.Name[i])[0])\n",
    "\n",
    "#print(surname)\n",
    "df['Surname'] = surname\n",
    "df.Surname\n",
    "\n",
    "familyid = []\n",
    "for i in range(len(df)):\n",
    "    familyid.append(str(df.FamilySize[i])+df.Surname[i])\n",
    "\n",
    "df['FamilyID'] = familyid\n",
    "df.FamilyID"
   ]
  },
  {
   "cell_type": "code",
   "execution_count": 6,
   "metadata": {
    "collapsed": false
   },
   "outputs": [
    {
     "name": "stderr",
     "output_type": "stream",
     "text": [
      "/Users/avinashtamby/anaconda/lib/python3.5/site-packages/ipykernel/__main__.py:16: SettingWithCopyWarning: \n",
      "A value is trying to be set on a copy of a slice from a DataFrame\n",
      "\n",
      "See the caveats in the documentation: http://pandas.pydata.org/pandas-docs/stable/indexing.html#indexing-view-versus-copy\n"
     ]
    }
   ],
   "source": [
    "#Feature Engineering Test\n",
    "\n",
    "testtitle = []\n",
    "for i in range(len(test)):\n",
    "    testtitle.append(re.split(', |\\. ',test.Name[i])[1])\n",
    "\n",
    "test['Title'] = testtitle\n",
    "test.Title.value_counts()\n",
    "\n",
    "for i in range(len(test.Title)):\n",
    "    if test.Title[i] == 'Mme':\n",
    "        test.Title[i] = 'Mlle'\n",
    "    elif test.Title[i] in ('Capt','Don','Major'):\n",
    "        test.Title[i] = 'Sir'\n",
    "    elif test.Title[i] in ('Dona','the Countess','Jonkheer'):\n",
    "        test.Title[i] = 'Lady'\n",
    "\n",
    "test['FamilySize'] = test.SibSp + test.Parch + 1\n",
    "\n",
    "testsurname = []\n",
    "for i in range(len(test)):\n",
    "    testsurname.append(re.split(', |\\. ',test.Name[i])[0])\n",
    "\n",
    "test['Surname'] = testsurname\n",
    "\n",
    "testfamilyid = []\n",
    "for i in range(len(test)):\n",
    "    testfamilyid.append(str(test.FamilySize[i])+test.Surname[i])\n",
    "\n",
    "test['FamilyID'] = testfamilyid"
   ]
  },
  {
   "cell_type": "code",
   "execution_count": 7,
   "metadata": {
    "collapsed": false
   },
   "outputs": [
    {
     "name": "stdout",
     "output_type": "stream",
     "text": [
      "[[  3.       1.      22.       1.       0.       7.25     2.       6.       2.    ]\n",
      " [  1.       0.      38.       1.       0.      71.2833   0.       7.       2.    ]\n",
      " [  3.       0.      26.       0.       0.       7.925    2.       4.       1.    ]\n",
      " [  1.       0.      35.       1.       0.      53.1      2.       7.       2.    ]\n",
      " [  3.       1.      35.       0.       0.       8.05     2.       6.       1.    ]]\n",
      "(891, 9)\n",
      "[0 1 1 1 0]\n",
      "(891,)\n"
     ]
    },
    {
     "name": "stderr",
     "output_type": "stream",
     "text": [
      "/Users/avinashtamby/anaconda/lib/python3.5/site-packages/ipykernel/__main__.py:3: SettingWithCopyWarning: \n",
      "A value is trying to be set on a copy of a slice from a DataFrame\n",
      "\n",
      "See the caveats in the documentation: http://pandas.pydata.org/pandas-docs/stable/indexing.html#indexing-view-versus-copy\n",
      "  app.launch_new_instance()\n"
     ]
    }
   ],
   "source": [
    "for i in range(len(df)):\n",
    "    if pd.isnull(df.Embarked[i]):\n",
    "        df.Embarked[i] = 'U'\n",
    "\n",
    "df.Sex = preprocessing.LabelEncoder().fit_transform(df.Sex) #Encode training data\n",
    "df.Title = preprocessing.LabelEncoder().fit_transform(df.Title)\n",
    "df.Embarked = preprocessing.LabelEncoder().fit_transform(df.Embarked)\n",
    "\n",
    "test.Sex = preprocessing.LabelEncoder().fit_transform(test.Sex)\n",
    "test.Title = preprocessing.LabelEncoder().fit_transform(test.Title)\n",
    "test.Embarked = preprocessing.LabelEncoder().fit_transform(test.Embarked)\n",
    "\n",
    "X = np.array(df[['Pclass','Sex','Age','SibSp','Parch','Fare','Embarked','Title','FamilySize']])\n",
    "print(X[0:5])\n",
    "print(X.shape)\n",
    "\n",
    "y = np.array(df['Survived'])\n",
    "\n",
    "print(y[0:5])\n",
    "print(y.shape)"
   ]
  },
  {
   "cell_type": "code",
   "execution_count": 9,
   "metadata": {
    "collapsed": false,
    "scrolled": true
   },
   "outputs": [
    {
     "name": "stdout",
     "output_type": "stream",
     "text": [
      "0.6442199775533108\n"
     ]
    }
   ],
   "source": [
    "kmn = cluster.KMeans(n_clusters=2)\n",
    "kmn.fit(X)\n",
    "\n",
    "TP = 0\n",
    "for i in range(len(y)):\n",
    "    if kmn.predict(X)[i] == y[i]:\n",
    "        TP+=1\n",
    "accuracy = TP/len(y)\n",
    "print(accuracy)"
   ]
  },
  {
   "cell_type": "code",
   "execution_count": null,
   "metadata": {
    "collapsed": false
   },
   "outputs": [],
   "source": [
    "#knn = neighbors.KNeighborsClassifier(n_neighbors=7,n_jobs=-1)\n",
    "#svm = svm.SVC()\n",
    "#logit = linear_model.LogisticRegression(n_jobs=-1)\n",
    "clf = ensemble.RandomForestClassifier(n_jobs=-1)\n",
    "\n",
    "k_range = list(range(1,50))\n",
    "param_dist = dict(n_estimators=k_range)\n",
    "rand = grid_search.RandomizedSearchCV(clf, param_dist, cv=10, scoring='accuracy', n_iter=10, random_state=5, n_jobs=-1)\n",
    "rand.fit(X, y)\n",
    "rand.grid_scores_\n",
    "print(rand.best_score_, rand.best_params_)"
   ]
  },
  {
   "cell_type": "code",
   "execution_count": null,
   "metadata": {
    "collapsed": true
   },
   "outputs": [],
   "source": [
    "rf = ensemble.RandomForestClassifier(n_jobs=-1)\n",
    "\n",
    "def classifier(alg, features):\n",
    "    X_train, X_test, y_train, y_test = cross_validation.train_test_split(features, y, test_size=0.1)\n",
    "    alg.fit(X_train, y_train)\n",
    "    alg_train_pp = alg.predict_proba(X_test)\n",
    "    print(alg.score(X_test, y_test))\n",
    "    \n",
    "    #ROC Curve\n",
    "    fpr, tpr, thresholds = metrics.roc_curve(y_test, alg_train_pp[:,1])\n",
    "    roc_auc = metrics.auc(fpr, tpr)\n",
    "    %matplotlib inline\n",
    "    fig = plt.plot(fpr, tpr, label='AUC = %0.3f' % roc_auc)\n",
    "    plt.plot([0, 1], [0, 1], 'k--')  # random predictions curve\n",
    "    plt.xlim([0, 1])\n",
    "    plt.ylim([0, 1])\n",
    "    plt.xlabel('False Positive Rate or (1 - Specificity)')\n",
    "    plt.ylabel('True Positive Rate or (Sensitivity)')\n",
    "    plt.title('Receiver Operating Characteristic')\n",
    "    plt.legend(loc=\"lower right\")\n",
    "    plt.show()\n",
    "    return fig"
   ]
  },
  {
   "cell_type": "code",
   "execution_count": null,
   "metadata": {
    "collapsed": false,
    "scrolled": true
   },
   "outputs": [],
   "source": [
    "classifier(rf,X)"
   ]
  }
 ],
 "metadata": {
  "kernelspec": {
   "display_name": "Python 3",
   "language": "python",
   "name": "python3"
  },
  "language_info": {
   "codemirror_mode": {
    "name": "ipython",
    "version": 3
   },
   "file_extension": ".py",
   "mimetype": "text/x-python",
   "name": "python",
   "nbconvert_exporter": "python",
   "pygments_lexer": "ipython3",
   "version": "3.5.2"
  }
 },
 "nbformat": 4,
 "nbformat_minor": 0
}
