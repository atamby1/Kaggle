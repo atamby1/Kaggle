{
 "cells": [
  {
   "cell_type": "code",
   "execution_count": 2,
   "metadata": {
    "collapsed": false,
    "scrolled": true
   },
   "outputs": [
    {
     "name": "stdout",
     "output_type": "stream",
     "text": [
      "41.81130814552307\n"
     ]
    }
   ],
   "source": [
    "import time\n",
    "\n",
    "t = time.time()\n",
    "\n",
    "import numpy as np\n",
    "import pandas as pd\n",
    "from sklearn import preprocessing, cross_validation, neighbors, svm, metrics, linear_model\n",
    "import matplotlib.pyplot as plt\n",
    "\n",
    "df = pd.read_csv('train.csv')\n",
    "#print(df.head())\n",
    "#print(df.tail())\n",
    "X = np.array(df.drop(['label'], 1))\n",
    "#print(X)\n",
    "#print(X.shape) #42000x784\n",
    "\n",
    "elapsed = time.time() - t\n",
    "print(elapsed)"
   ]
  },
  {
   "cell_type": "code",
   "execution_count": 3,
   "metadata": {
    "collapsed": false
   },
   "outputs": [
    {
     "name": "stdout",
     "output_type": "stream",
     "text": [
      "0.96\n",
      "0.958\n",
      "0.935\n",
      "73.174400806427\n"
     ]
    }
   ],
   "source": [
    "t = time.time()\n",
    "\n",
    "X1k = X[0:1000]\n",
    "X5k = X[0:5000]\n",
    "X10k = X[0:10000]\n",
    "\n",
    "y = np.array(df['label'])\n",
    "\n",
    "y1k = y[0:1000]\n",
    "y5k = y[0:5000]\n",
    "y10k = y[0:10000]\n",
    "\n",
    "X1k_train, X1k_test, y1k_train, y1k_test = cross_validation.train_test_split(X1k, y1k, test_size=0.2)\n",
    "X5k_train, X5k_test, y5k_train, y5k_test = cross_validation.train_test_split(X5k, y5k, test_size=0.2)\n",
    "X10k_train, X10k_test, y10k_train, y10k_test = cross_validation.train_test_split(X10k, y10k, test_size=0.2)\n",
    "\n",
    "clf = neighbors.KNeighborsClassifier()\n",
    "\n",
    "clf.fit(X1k_train, y1k_train)\n",
    "clf.fit(X5k_train, y5k_train)\n",
    "clf.fit(X10k_train, y10k_train)\n",
    "\n",
    "accuracy1k = clf.score(X1k_test, y1k_test)\n",
    "accuracy5k = clf.score(X5k_test, y5k_test)\n",
    "accuracy10k = clf.score(X10k_test, y10k_test)\n",
    "\n",
    "print(accuracy1k)\n",
    "print(accuracy5k)\n",
    "print(accuracy10k)\n",
    "\n",
    "elapsed = time.time() - t\n",
    "print(elapsed)"
   ]
  },
  {
   "cell_type": "code",
   "execution_count": 4,
   "metadata": {
    "collapsed": false
   },
   "outputs": [
    {
     "name": "stdout",
     "output_type": "stream",
     "text": [
      "31.55683994293213\n"
     ]
    }
   ],
   "source": [
    "t = time.time()\n",
    "\n",
    "clf.fit(X, y)\n",
    "\n",
    "elapsed = time.time() - t\n",
    "print(elapsed)"
   ]
  },
  {
   "cell_type": "code",
   "execution_count": 5,
   "metadata": {
    "collapsed": false,
    "scrolled": true
   },
   "outputs": [
    {
     "name": "stdout",
     "output_type": "stream",
     "text": [
      "5.650221109390259\n"
     ]
    }
   ],
   "source": [
    "t = time.time()\n",
    "\n",
    "dftest = pd.read_csv('test.csv')\n",
    "#print(dftest.head())\n",
    "Xtest = np.array(dftest)\n",
    "#print(Xtest[1])\n",
    "#print(len(Xtest))\n",
    "#print(Xtest.shape) #42000x784\n",
    "\n",
    "#for i in range():\n",
    "#print('Prediction:',clf.predict(Xtest[0:100]))\n",
    "\n",
    "elapsed = time.time() - t\n",
    "print(elapsed)"
   ]
  },
  {
   "cell_type": "code",
   "execution_count": 8,
   "metadata": {
    "collapsed": false
   },
   "outputs": [
    {
     "name": "stdout",
     "output_type": "stream",
     "text": [
      "2847.6073060035706\n"
     ]
    }
   ],
   "source": [
    "t = time.time()\n",
    "\n",
    "prediction = clf.predict(Xtest) #knn.predict(test)\n",
    "\n",
    "prediction = pd.DataFrame(prediction)\n",
    "\n",
    "prediction['ImageId'] = prediction.index + 1\n",
    "prediction = prediction[['ImageId', 0]]\n",
    "prediction.columns = ['ImageId', 'Label']\n",
    "\n",
    "prediction.to_csv('prediction.csv', index=False)\n",
    "\n",
    "elapsed = time.time() - t\n",
    "print(elapsed)"
   ]
  }
 ],
 "metadata": {
  "kernelspec": {
   "display_name": "Python 3",
   "language": "python",
   "name": "python3"
  },
  "language_info": {
   "codemirror_mode": {
    "name": "ipython",
    "version": 3
   },
   "file_extension": ".py",
   "mimetype": "text/x-python",
   "name": "python",
   "nbconvert_exporter": "python",
   "pygments_lexer": "ipython3",
   "version": "3.5.2"
  }
 },
 "nbformat": 4,
 "nbformat_minor": 0
}
